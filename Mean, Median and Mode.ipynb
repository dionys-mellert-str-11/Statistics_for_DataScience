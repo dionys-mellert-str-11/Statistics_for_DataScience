{
 "cells": [
  {
   "cell_type": "markdown",
   "id": "5395cf0b",
   "metadata": {},
   "source": [
    "# Mean, Median and Mode\n",
    "\n",
    "In Statistics, measure of central tendency (measure of center) is a central or typical value for a probability distribution (Wikipedia). \n",
    "We are familiar with measures of central tendency called the mean, median and mode.\n",
    "\n",
    "(-) Mean: Measure of average of all the values in a sample set. <br>\n",
    "(-) Median: Measure of the central value of the sample set. <br>\n",
    "(-) Mode: The value most recurrent in the sample set."
   ]
  },
  {
   "cell_type": "markdown",
   "id": "fab73893",
   "metadata": {},
   "source": [
    "Load libraries"
   ]
  },
  {
   "cell_type": "code",
   "execution_count": 4,
   "id": "5a9e3103",
   "metadata": {},
   "outputs": [],
   "source": [
    "import pandas as pd\n",
    "import numpy as np"
   ]
  },
  {
   "cell_type": "markdown",
   "id": "758ccd26",
   "metadata": {},
   "source": [
    "Load dataset and remove the first two column"
   ]
  },
  {
   "cell_type": "code",
   "execution_count": 43,
   "id": "0dea23a3",
   "metadata": {},
   "outputs": [
    {
     "data": {
      "text/html": [
       "<div>\n",
       "<style scoped>\n",
       "    .dataframe tbody tr th:only-of-type {\n",
       "        vertical-align: middle;\n",
       "    }\n",
       "\n",
       "    .dataframe tbody tr th {\n",
       "        vertical-align: top;\n",
       "    }\n",
       "\n",
       "    .dataframe thead th {\n",
       "        text-align: right;\n",
       "    }\n",
       "</style>\n",
       "<table border=\"1\" class=\"dataframe\">\n",
       "  <thead>\n",
       "    <tr style=\"text-align: right;\">\n",
       "      <th></th>\n",
       "      <th>year</th>\n",
       "      <th>population</th>\n",
       "      <th>continent</th>\n",
       "      <th>life_exp</th>\n",
       "      <th>gdp_cap</th>\n",
       "    </tr>\n",
       "  </thead>\n",
       "  <tbody>\n",
       "    <tr>\n",
       "      <th>0</th>\n",
       "      <td>2007</td>\n",
       "      <td>31889923</td>\n",
       "      <td>Asia</td>\n",
       "      <td>43.828</td>\n",
       "      <td>974.580338</td>\n",
       "    </tr>\n",
       "    <tr>\n",
       "      <th>1</th>\n",
       "      <td>2007</td>\n",
       "      <td>3600523</td>\n",
       "      <td>Europe</td>\n",
       "      <td>76.423</td>\n",
       "      <td>5937.029526</td>\n",
       "    </tr>\n",
       "    <tr>\n",
       "      <th>2</th>\n",
       "      <td>2007</td>\n",
       "      <td>33333216</td>\n",
       "      <td>Africa</td>\n",
       "      <td>72.301</td>\n",
       "      <td>6223.367465</td>\n",
       "    </tr>\n",
       "    <tr>\n",
       "      <th>3</th>\n",
       "      <td>2007</td>\n",
       "      <td>12420476</td>\n",
       "      <td>Africa</td>\n",
       "      <td>42.731</td>\n",
       "      <td>4797.231267</td>\n",
       "    </tr>\n",
       "    <tr>\n",
       "      <th>4</th>\n",
       "      <td>2007</td>\n",
       "      <td>40301927</td>\n",
       "      <td>Americas</td>\n",
       "      <td>75.320</td>\n",
       "      <td>12779.379640</td>\n",
       "    </tr>\n",
       "    <tr>\n",
       "      <th>...</th>\n",
       "      <td>...</td>\n",
       "      <td>...</td>\n",
       "      <td>...</td>\n",
       "      <td>...</td>\n",
       "      <td>...</td>\n",
       "    </tr>\n",
       "    <tr>\n",
       "      <th>137</th>\n",
       "      <td>2007</td>\n",
       "      <td>85262356</td>\n",
       "      <td>Asia</td>\n",
       "      <td>74.249</td>\n",
       "      <td>2441.576404</td>\n",
       "    </tr>\n",
       "    <tr>\n",
       "      <th>138</th>\n",
       "      <td>2007</td>\n",
       "      <td>4018332</td>\n",
       "      <td>Asia</td>\n",
       "      <td>73.422</td>\n",
       "      <td>3025.349798</td>\n",
       "    </tr>\n",
       "    <tr>\n",
       "      <th>139</th>\n",
       "      <td>2007</td>\n",
       "      <td>22211743</td>\n",
       "      <td>Asia</td>\n",
       "      <td>62.698</td>\n",
       "      <td>2280.769906</td>\n",
       "    </tr>\n",
       "    <tr>\n",
       "      <th>140</th>\n",
       "      <td>2007</td>\n",
       "      <td>11746035</td>\n",
       "      <td>Africa</td>\n",
       "      <td>42.384</td>\n",
       "      <td>1271.211593</td>\n",
       "    </tr>\n",
       "    <tr>\n",
       "      <th>141</th>\n",
       "      <td>2007</td>\n",
       "      <td>12311143</td>\n",
       "      <td>Africa</td>\n",
       "      <td>43.487</td>\n",
       "      <td>469.709298</td>\n",
       "    </tr>\n",
       "  </tbody>\n",
       "</table>\n",
       "<p>142 rows × 5 columns</p>\n",
       "</div>"
      ],
      "text/plain": [
       "     year  population continent  life_exp       gdp_cap\n",
       "0    2007    31889923      Asia    43.828    974.580338\n",
       "1    2007     3600523    Europe    76.423   5937.029526\n",
       "2    2007    33333216    Africa    72.301   6223.367465\n",
       "3    2007    12420476    Africa    42.731   4797.231267\n",
       "4    2007    40301927  Americas    75.320  12779.379640\n",
       "..    ...         ...       ...       ...           ...\n",
       "137  2007    85262356      Asia    74.249   2441.576404\n",
       "138  2007     4018332      Asia    73.422   3025.349798\n",
       "139  2007    22211743      Asia    62.698   2280.769906\n",
       "140  2007    11746035    Africa    42.384   1271.211593\n",
       "141  2007    12311143    Africa    43.487    469.709298\n",
       "\n",
       "[142 rows x 5 columns]"
      ]
     },
     "execution_count": 43,
     "metadata": {},
     "output_type": "execute_result"
    }
   ],
   "source": [
    "df = pd.read_csv(\"gapminder.csv\")\n",
    "df = df.iloc[:,2:]\n",
    "df"
   ]
  },
  {
   "cell_type": "code",
   "execution_count": 47,
   "id": "d2891571",
   "metadata": {},
   "outputs": [
    {
     "name": "stdout",
     "output_type": "stream",
     "text": [
      "Mean of life expectancy in the dataset is: 67.00742253521126\n"
     ]
    }
   ],
   "source": [
    "mean_ = df['life_exp'].mean()\n",
    "print(\"Mean of life expectancy in the dataset is:\", mean_)"
   ]
  },
  {
   "cell_type": "code",
   "execution_count": 48,
   "id": "f8f399c2",
   "metadata": {},
   "outputs": [
    {
     "name": "stdout",
     "output_type": "stream",
     "text": [
      "Median of life expectancy in the dataset is: 71.93549999999999\n"
     ]
    }
   ],
   "source": [
    "median_ = df['life_exp'].median()\n",
    "print(\"Median of life expectancy in the dataset is:\", median_)"
   ]
  },
  {
   "cell_type": "code",
   "execution_count": 50,
   "id": "5b5508a4",
   "metadata": {},
   "outputs": [
    {
     "name": "stdout",
     "output_type": "stream",
     "text": [
      "Mode of life expectancy in the dataset is: 0      39.613\n",
      "1      42.082\n",
      "2      42.384\n",
      "3      42.568\n",
      "4      42.592\n",
      "        ...  \n",
      "137    81.235\n",
      "138    81.701\n",
      "139    81.757\n",
      "140    82.208\n",
      "141    82.603\n",
      "Name: life_exp, Length: 142, dtype: float64\n"
     ]
    }
   ],
   "source": [
    "mode_ = df['life_exp'].mode()\n",
    "print(\"Mode of life expectancy in the dataset is:\", mode_)"
   ]
  },
  {
   "cell_type": "code",
   "execution_count": null,
   "id": "22289f57",
   "metadata": {},
   "outputs": [],
   "source": []
  }
 ],
 "metadata": {
  "kernelspec": {
   "display_name": "Python 3 (ipykernel)",
   "language": "python",
   "name": "python3"
  },
  "language_info": {
   "codemirror_mode": {
    "name": "ipython",
    "version": 3
   },
   "file_extension": ".py",
   "mimetype": "text/x-python",
   "name": "python",
   "nbconvert_exporter": "python",
   "pygments_lexer": "ipython3",
   "version": "3.10.9"
  }
 },
 "nbformat": 4,
 "nbformat_minor": 5
}
