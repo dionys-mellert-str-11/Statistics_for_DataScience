{
 "cells": [
  {
   "cell_type": "markdown",
   "id": "640557e2",
   "metadata": {},
   "source": [
    "# Population and Sample\n",
    "\n",
    "In Statistics and research area, population and sample are two important terms. Having a clear understanding of these terms is important if you want to conduct effective research\n",
    "\n",
    "(-) Population is the entire group that you want to draw conclusions about. <br>\n",
    "(-) sample is the specific group (subset of population) that you will collect data from.\n"
   ]
  },
  {
   "cell_type": "markdown",
   "id": "e346814b",
   "metadata": {},
   "source": [
    "Load libraries"
   ]
  },
  {
   "cell_type": "code",
   "execution_count": 1,
   "id": "d36e13b8",
   "metadata": {},
   "outputs": [],
   "source": [
    "import pandas as pd\n",
    "import numpy as np"
   ]
  },
  {
   "cell_type": "markdown",
   "id": "7430a461",
   "metadata": {},
   "source": [
    "Load dataset and remove the first two column"
   ]
  },
  {
   "cell_type": "code",
   "execution_count": 2,
   "id": "0ebc06e4",
   "metadata": {},
   "outputs": [
    {
     "data": {
      "text/html": [
       "<div>\n",
       "<style scoped>\n",
       "    .dataframe tbody tr th:only-of-type {\n",
       "        vertical-align: middle;\n",
       "    }\n",
       "\n",
       "    .dataframe tbody tr th {\n",
       "        vertical-align: top;\n",
       "    }\n",
       "\n",
       "    .dataframe thead th {\n",
       "        text-align: right;\n",
       "    }\n",
       "</style>\n",
       "<table border=\"1\" class=\"dataframe\">\n",
       "  <thead>\n",
       "    <tr style=\"text-align: right;\">\n",
       "      <th></th>\n",
       "      <th>year</th>\n",
       "      <th>population</th>\n",
       "      <th>continent</th>\n",
       "      <th>life_exp</th>\n",
       "      <th>gdp_cap</th>\n",
       "    </tr>\n",
       "  </thead>\n",
       "  <tbody>\n",
       "    <tr>\n",
       "      <th>0</th>\n",
       "      <td>2007</td>\n",
       "      <td>31889923</td>\n",
       "      <td>Asia</td>\n",
       "      <td>43.828</td>\n",
       "      <td>974.580338</td>\n",
       "    </tr>\n",
       "    <tr>\n",
       "      <th>1</th>\n",
       "      <td>2007</td>\n",
       "      <td>3600523</td>\n",
       "      <td>Europe</td>\n",
       "      <td>76.423</td>\n",
       "      <td>5937.029526</td>\n",
       "    </tr>\n",
       "    <tr>\n",
       "      <th>2</th>\n",
       "      <td>2007</td>\n",
       "      <td>33333216</td>\n",
       "      <td>Africa</td>\n",
       "      <td>72.301</td>\n",
       "      <td>6223.367465</td>\n",
       "    </tr>\n",
       "    <tr>\n",
       "      <th>3</th>\n",
       "      <td>2007</td>\n",
       "      <td>12420476</td>\n",
       "      <td>Africa</td>\n",
       "      <td>42.731</td>\n",
       "      <td>4797.231267</td>\n",
       "    </tr>\n",
       "    <tr>\n",
       "      <th>4</th>\n",
       "      <td>2007</td>\n",
       "      <td>40301927</td>\n",
       "      <td>Americas</td>\n",
       "      <td>75.320</td>\n",
       "      <td>12779.379640</td>\n",
       "    </tr>\n",
       "    <tr>\n",
       "      <th>...</th>\n",
       "      <td>...</td>\n",
       "      <td>...</td>\n",
       "      <td>...</td>\n",
       "      <td>...</td>\n",
       "      <td>...</td>\n",
       "    </tr>\n",
       "    <tr>\n",
       "      <th>137</th>\n",
       "      <td>2007</td>\n",
       "      <td>85262356</td>\n",
       "      <td>Asia</td>\n",
       "      <td>74.249</td>\n",
       "      <td>2441.576404</td>\n",
       "    </tr>\n",
       "    <tr>\n",
       "      <th>138</th>\n",
       "      <td>2007</td>\n",
       "      <td>4018332</td>\n",
       "      <td>Asia</td>\n",
       "      <td>73.422</td>\n",
       "      <td>3025.349798</td>\n",
       "    </tr>\n",
       "    <tr>\n",
       "      <th>139</th>\n",
       "      <td>2007</td>\n",
       "      <td>22211743</td>\n",
       "      <td>Asia</td>\n",
       "      <td>62.698</td>\n",
       "      <td>2280.769906</td>\n",
       "    </tr>\n",
       "    <tr>\n",
       "      <th>140</th>\n",
       "      <td>2007</td>\n",
       "      <td>11746035</td>\n",
       "      <td>Africa</td>\n",
       "      <td>42.384</td>\n",
       "      <td>1271.211593</td>\n",
       "    </tr>\n",
       "    <tr>\n",
       "      <th>141</th>\n",
       "      <td>2007</td>\n",
       "      <td>12311143</td>\n",
       "      <td>Africa</td>\n",
       "      <td>43.487</td>\n",
       "      <td>469.709298</td>\n",
       "    </tr>\n",
       "  </tbody>\n",
       "</table>\n",
       "<p>142 rows × 5 columns</p>\n",
       "</div>"
      ],
      "text/plain": [
       "     year  population continent  life_exp       gdp_cap\n",
       "0    2007    31889923      Asia    43.828    974.580338\n",
       "1    2007     3600523    Europe    76.423   5937.029526\n",
       "2    2007    33333216    Africa    72.301   6223.367465\n",
       "3    2007    12420476    Africa    42.731   4797.231267\n",
       "4    2007    40301927  Americas    75.320  12779.379640\n",
       "..    ...         ...       ...       ...           ...\n",
       "137  2007    85262356      Asia    74.249   2441.576404\n",
       "138  2007     4018332      Asia    73.422   3025.349798\n",
       "139  2007    22211743      Asia    62.698   2280.769906\n",
       "140  2007    11746035    Africa    42.384   1271.211593\n",
       "141  2007    12311143    Africa    43.487    469.709298\n",
       "\n",
       "[142 rows x 5 columns]"
      ]
     },
     "execution_count": 2,
     "metadata": {},
     "output_type": "execute_result"
    }
   ],
   "source": [
    "df = pd.read_csv(\"gapminder.csv\")\n",
    "df = df.iloc[:,2:]\n",
    "df"
   ]
  },
  {
   "cell_type": "code",
   "execution_count": 3,
   "id": "bbc3b214",
   "metadata": {},
   "outputs": [
    {
     "name": "stdout",
     "output_type": "stream",
     "text": [
      "Below is 10 samples from the dataset (142 rows):      year  population continent  life_exp       gdp_cap\n",
      "84   2007      684736    Europe    74.543   9253.896111\n",
      "96   2007     3204897      Asia    75.640  22316.192870\n",
      "85   2007    33757175    Africa    71.164   3820.175230\n",
      "82   2007   108700891  Americas    76.195  11977.574960\n",
      "7    2007      708573      Asia    75.635  29796.048340\n",
      "72   2007     3921278      Asia    71.993  10461.058680\n",
      "11   2007     9119152  Americas    65.554   3822.137084\n",
      "14   2007   190010647  Americas    72.390   9065.800825\n",
      "102  2007    38518241    Europe    75.563  15389.924680\n",
      "41   2007     4906585    Africa    58.040    641.369524\n"
     ]
    }
   ],
   "source": [
    "sample_ = df.sample(10)\n",
    "print(\"Below is 10 samples from the dataset (142 rows):\", sample_)"
   ]
  },
  {
   "cell_type": "code",
   "execution_count": null,
   "id": "6576b214",
   "metadata": {},
   "outputs": [],
   "source": []
  }
 ],
 "metadata": {
  "kernelspec": {
   "display_name": "Python 3 (ipykernel)",
   "language": "python",
   "name": "python3"
  },
  "language_info": {
   "codemirror_mode": {
    "name": "ipython",
    "version": 3
   },
   "file_extension": ".py",
   "mimetype": "text/x-python",
   "name": "python",
   "nbconvert_exporter": "python",
   "pygments_lexer": "ipython3",
   "version": "3.10.9"
  }
 },
 "nbformat": 4,
 "nbformat_minor": 5
}
