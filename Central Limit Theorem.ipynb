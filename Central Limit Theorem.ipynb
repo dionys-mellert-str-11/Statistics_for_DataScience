{
 "cells": [
  {
   "cell_type": "markdown",
   "id": "640557e2",
   "metadata": {},
   "source": [
    "# Central Limit Theorem\n",
    "\n",
    "The theorem explain that as sample sizes get larger and larger, the sampling distribution of the mean will become normally distributed, even if the data within each sample are not normally distributed. <br>\n",
    "\n",
    "The Central Limit Theorem is important for statistics because it allows us to safely assume that the sampling distribution of the mean will be normal in most cases. In addition to that, the mean the these sample means will be equal to the population mean and standard error (standard deviation of the sample means) will also decrease with increasing in sample size."
   ]
  },
  {
   "cell_type": "markdown",
   "id": "e346814b",
   "metadata": {},
   "source": [
    "Load libraries"
   ]
  },
  {
   "cell_type": "code",
   "execution_count": 1,
   "id": "d36e13b8",
   "metadata": {},
   "outputs": [],
   "source": [
    "import pandas as pd\n",
    "import numpy as np\n",
    "import matplotlib.pyplot as plt"
   ]
  },
  {
   "cell_type": "markdown",
   "id": "7430a461",
   "metadata": {},
   "source": [
    "Load dataset and remove the first two column."
   ]
  },
  {
   "cell_type": "code",
   "execution_count": 2,
   "id": "70ed78b6",
   "metadata": {},
   "outputs": [
    {
     "data": {
      "text/html": [
       "<div>\n",
       "<style scoped>\n",
       "    .dataframe tbody tr th:only-of-type {\n",
       "        vertical-align: middle;\n",
       "    }\n",
       "\n",
       "    .dataframe tbody tr th {\n",
       "        vertical-align: top;\n",
       "    }\n",
       "\n",
       "    .dataframe thead th {\n",
       "        text-align: right;\n",
       "    }\n",
       "</style>\n",
       "<table border=\"1\" class=\"dataframe\">\n",
       "  <thead>\n",
       "    <tr style=\"text-align: right;\">\n",
       "      <th></th>\n",
       "      <th>year</th>\n",
       "      <th>population</th>\n",
       "      <th>continent</th>\n",
       "      <th>life_exp</th>\n",
       "      <th>gdp_cap</th>\n",
       "    </tr>\n",
       "  </thead>\n",
       "  <tbody>\n",
       "    <tr>\n",
       "      <th>0</th>\n",
       "      <td>2007</td>\n",
       "      <td>31889923</td>\n",
       "      <td>Asia</td>\n",
       "      <td>43.828</td>\n",
       "      <td>974.580338</td>\n",
       "    </tr>\n",
       "    <tr>\n",
       "      <th>1</th>\n",
       "      <td>2007</td>\n",
       "      <td>3600523</td>\n",
       "      <td>Europe</td>\n",
       "      <td>76.423</td>\n",
       "      <td>5937.029526</td>\n",
       "    </tr>\n",
       "    <tr>\n",
       "      <th>2</th>\n",
       "      <td>2007</td>\n",
       "      <td>33333216</td>\n",
       "      <td>Africa</td>\n",
       "      <td>72.301</td>\n",
       "      <td>6223.367465</td>\n",
       "    </tr>\n",
       "    <tr>\n",
       "      <th>3</th>\n",
       "      <td>2007</td>\n",
       "      <td>12420476</td>\n",
       "      <td>Africa</td>\n",
       "      <td>42.731</td>\n",
       "      <td>4797.231267</td>\n",
       "    </tr>\n",
       "    <tr>\n",
       "      <th>4</th>\n",
       "      <td>2007</td>\n",
       "      <td>40301927</td>\n",
       "      <td>Americas</td>\n",
       "      <td>75.320</td>\n",
       "      <td>12779.379640</td>\n",
       "    </tr>\n",
       "    <tr>\n",
       "      <th>...</th>\n",
       "      <td>...</td>\n",
       "      <td>...</td>\n",
       "      <td>...</td>\n",
       "      <td>...</td>\n",
       "      <td>...</td>\n",
       "    </tr>\n",
       "    <tr>\n",
       "      <th>137</th>\n",
       "      <td>2007</td>\n",
       "      <td>85262356</td>\n",
       "      <td>Asia</td>\n",
       "      <td>74.249</td>\n",
       "      <td>2441.576404</td>\n",
       "    </tr>\n",
       "    <tr>\n",
       "      <th>138</th>\n",
       "      <td>2007</td>\n",
       "      <td>4018332</td>\n",
       "      <td>Asia</td>\n",
       "      <td>73.422</td>\n",
       "      <td>3025.349798</td>\n",
       "    </tr>\n",
       "    <tr>\n",
       "      <th>139</th>\n",
       "      <td>2007</td>\n",
       "      <td>22211743</td>\n",
       "      <td>Asia</td>\n",
       "      <td>62.698</td>\n",
       "      <td>2280.769906</td>\n",
       "    </tr>\n",
       "    <tr>\n",
       "      <th>140</th>\n",
       "      <td>2007</td>\n",
       "      <td>11746035</td>\n",
       "      <td>Africa</td>\n",
       "      <td>42.384</td>\n",
       "      <td>1271.211593</td>\n",
       "    </tr>\n",
       "    <tr>\n",
       "      <th>141</th>\n",
       "      <td>2007</td>\n",
       "      <td>12311143</td>\n",
       "      <td>Africa</td>\n",
       "      <td>43.487</td>\n",
       "      <td>469.709298</td>\n",
       "    </tr>\n",
       "  </tbody>\n",
       "</table>\n",
       "<p>142 rows × 5 columns</p>\n",
       "</div>"
      ],
      "text/plain": [
       "     year  population continent  life_exp       gdp_cap\n",
       "0    2007    31889923      Asia    43.828    974.580338\n",
       "1    2007     3600523    Europe    76.423   5937.029526\n",
       "2    2007    33333216    Africa    72.301   6223.367465\n",
       "3    2007    12420476    Africa    42.731   4797.231267\n",
       "4    2007    40301927  Americas    75.320  12779.379640\n",
       "..    ...         ...       ...       ...           ...\n",
       "137  2007    85262356      Asia    74.249   2441.576404\n",
       "138  2007     4018332      Asia    73.422   3025.349798\n",
       "139  2007    22211743      Asia    62.698   2280.769906\n",
       "140  2007    11746035    Africa    42.384   1271.211593\n",
       "141  2007    12311143    Africa    43.487    469.709298\n",
       "\n",
       "[142 rows x 5 columns]"
      ]
     },
     "execution_count": 2,
     "metadata": {},
     "output_type": "execute_result"
    }
   ],
   "source": [
    "df = pd.read_csv(\"gapminder.csv\")\n",
    "df = df.iloc[:,2:]\n",
    "df"
   ]
  },
  {
   "cell_type": "markdown",
   "id": "69e26434",
   "metadata": {},
   "source": [
    "Now we look at the the life expectancy data"
   ]
  },
  {
   "cell_type": "code",
   "execution_count": 3,
   "id": "3377b299",
   "metadata": {},
   "outputs": [
    {
     "data": {
      "text/plain": [
       "count    142.000000\n",
       "mean      67.007423\n",
       "std       12.073021\n",
       "min       39.613000\n",
       "25%       57.160250\n",
       "50%       71.935500\n",
       "75%       76.413250\n",
       "max       82.603000\n",
       "Name: life_exp, dtype: float64"
      ]
     },
     "execution_count": 3,
     "metadata": {},
     "output_type": "execute_result"
    }
   ],
   "source": [
    "df_life_exp = df['life_exp']\n",
    "df_life_exp.describe()"
   ]
  },
  {
   "cell_type": "markdown",
   "id": "5a3d6f94",
   "metadata": {},
   "source": [
    "Let us take out the mean of the life expectancy data."
   ]
  },
  {
   "cell_type": "code",
   "execution_count": 4,
   "id": "fcd0d8f5",
   "metadata": {},
   "outputs": [
    {
     "data": {
      "text/plain": [
       "67.00742253521126"
      ]
     },
     "execution_count": 4,
     "metadata": {},
     "output_type": "execute_result"
    }
   ],
   "source": [
    "df_life_exp.mean()"
   ]
  },
  {
   "cell_type": "markdown",
   "id": "c7a2b8ca",
   "metadata": {},
   "source": [
    "Then we plot all the observations in life expectancy data."
   ]
  },
  {
   "cell_type": "code",
   "execution_count": 5,
   "id": "1a46cd1e",
   "metadata": {},
   "outputs": [
    {
     "data": {
      "text/plain": [
       "<matplotlib.lines.Line2D at 0x7fcaaac57ca0>"
      ]
     },
     "execution_count": 5,
     "metadata": {},
     "output_type": "execute_result"
    },
    {
     "data": {
      "image/png": "[encoded data removed]",
      "text/plain": [
       "<Figure size 640x480 with 1 Axes>"
      ]
     },
     "metadata": {},
     "output_type": "display_data"
    }
   ],
   "source": [
    "plt.hist(df_life_exp, bins=50)\n",
    "\n",
    "plt.xlabel('life expectancy')\n",
    "plt.ylabel('frequency')\n",
    "plt.title('Histogram of Life Expectancy')\n",
    "plt.axvline(x=df_life_exp.mean(),color='r')"
   ]
  },
  {
   "cell_type": "markdown",
   "id": "57a628fb",
   "metadata": {},
   "source": [
    "Interpretation the plot above:<br>\n",
    "- We can see that the red line in the middle is the mean of data which almost at the centre of main distribution.\n",
    "- Most of the distribution is normal but the shape of distribution is not 100%. \n",
    "- We could assume that the data point around 40 that maybe an outlier."
   ]
  },
  {
   "cell_type": "markdown",
   "id": "dfb5adb1",
   "metadata": {},
   "source": [
    "Since the shape of distribution is not like we want, we need to draw a sufficient samples and compute the sample means and again plot the data to get a normal distribution. \n",
    "In this example, we draw 14 sample (around 10% of total population), calculate the sample mean, and plot them."
   ]
  },
  {
   "cell_type": "code",
   "execution_count": 6,
   "id": "eb34d9db",
   "metadata": {},
   "outputs": [
    {
     "data": {
      "text/plain": [
       "<matplotlib.lines.Line2D at 0x7fca992c08e0>"
      ]
     },
     "execution_count": 6,
     "metadata": {},
     "output_type": "execute_result"
    },
    {
     "data": {
      "image/png": "[encoded data removed]",
      "text/plain": [
       "<Figure size 640x480 with 1 Axes>"
      ]
     },
     "metadata": {},
     "output_type": "display_data"
    }
   ],
   "source": [
    "array = []\n",
    "n = 100\n",
    "for i in range(1,n):\n",
    "    array.append(df_life_exp.sample(n=10,replace= True).mean())\n",
    "\n",
    "plt.hist(array, bins=50)\n",
    "\n",
    "plt.xlabel('life expectancy')\n",
    "plt.ylabel('frequency')\n",
    "plt.title('Histogram of Life Expectancy')\n",
    "plt.axvline(x=np.mean(array),color='r')"
   ]
  },
  {
   "cell_type": "markdown",
   "id": "5fc83606",
   "metadata": {},
   "source": [
    "Interpretation the plot above:\n",
    "- The shape of distribution is better than previous picture.\n",
    "- Now I would say that the data point around below 62 and above 70 are suspected to be an outlier."
   ]
  },
  {
   "cell_type": "markdown",
   "id": "74c7a40e",
   "metadata": {},
   "source": [
    "Now we try to increase the sample from 20, 40 and 75 and again plot all the observations using life expectancy data."
   ]
  },
  {
   "cell_type": "code",
   "execution_count": 7,
   "id": "4a5abed7",
   "metadata": {},
   "outputs": [
    {
     "data": {
      "text/plain": [
       "<matplotlib.lines.Line2D at 0x7fca9943f4f0>"
      ]
     },
     "execution_count": 7,
     "metadata": {},
     "output_type": "execute_result"
    },
    {
     "data": {
      "image/png": "[encoded data removed]",
      "text/plain": [
       "<Figure size 1800x500 with 3 Axes>"
      ]
     },
     "metadata": {},
     "output_type": "display_data"
    }
   ],
   "source": [
    "array1 = []\n",
    "array2 = []\n",
    "array3 = []\n",
    "n = 120\n",
    "for i in range(1,n):\n",
    "    array1.append(df_life_exp.sample(n=20,replace= True).mean())\n",
    "    array2.append(df_life_exp.sample(n=40,replace= True).mean())\n",
    "    array3.append(df_life_exp.sample(n=75,replace= True).mean())\n",
    "\n",
    "#print(array)\n",
    "fig , (ax1,ax2,ax3) = plt.subplots(nrows=1, ncols=3,figsize=(18,5))\n",
    "#plt.figure()\n",
    "\n",
    "#plt.subplot(311)\n",
    "ax1.hist(array1, bins=100,color='b')\n",
    "ax1.set_xlabel('cholestrol')\n",
    "ax1.set_ylabel('frequency')\n",
    "ax1.set_title('Sample size = 20')\n",
    "ax1.axvline(x=np.mean(array1),color='r') \n",
    "\n",
    "#ax2.subplot(312)\n",
    "ax2.hist(array2, bins=100, color='g')\n",
    "ax2.set_xlabel('cholestrol')\n",
    "ax2.set_ylabel('frequency')\n",
    "ax2.set_title('Sample size = 40')\n",
    "ax2.axvline(x=np.mean(array2),color='r') \n",
    "\n",
    "#ax3.subplot(313)\n",
    "ax3.hist(array3, bins=100)\n",
    "ax3.set_xlabel('cholestrol')\n",
    "ax3.set_ylabel('frequency')\n",
    "ax3.set_title('Sample size = 75')\n",
    "ax3.axvline(x=np.mean(array3),color='r') "
   ]
  },
  {
   "cell_type": "markdown",
   "id": "3d7bb7e7",
   "metadata": {},
   "source": [
    "At the end, we can conclude that:\n",
    "- We still have outlier in our dataset. If we need to use the data, we have to remove them.\n",
    "- As the sample size increase, we will see a good shape of sample distribution which approach to normal distribution.\n",
    "\n",
    "facit\n",
    "- our dataset is very small"
   ]
  },
  {
   "cell_type": "code",
   "execution_count": null,
   "id": "a09ea56f",
   "metadata": {},
   "outputs": [],
   "source": []
  }
 ],
 "metadata": {
  "kernelspec": {
   "display_name": "Python 3 (ipykernel)",
   "language": "python",
   "name": "python3"
  },
  "language_info": {
   "codemirror_mode": {
    "name": "ipython",
    "version": 3
   },
   "file_extension": ".py",
   "mimetype": "text/x-python",
   "name": "python",
   "nbconvert_exporter": "python",
   "pygments_lexer": "ipython3",
   "version": "3.10.9"
  }
 },
 "nbformat": 4,
 "nbformat_minor": 5
}
