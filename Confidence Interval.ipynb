{
 "cells": [
  {
   "cell_type": "markdown",
   "id": "640557e2",
   "metadata": {},
   "source": [
    "# Confidence Interval\n",
    "\n",
    "\n",
    "Confidence interval is important and a part of statistics inference(*) and hypothesis testing. Confidence level refers to the percentage of probability, or certainty, that the confidence interval would contain the true population parameter when you draw a random sample many times (https://www.census.gov/programs-surveys/saipe/guidance/confidence-intervals.html).\n",
    "\n",
    "Confidence Intervals is used to measure uncertainty in a sample variable.\n",
    "\n",
    "Having 95% confidence intervals, means that we have a 5% chance of being wrong. It applies also with having 90% confidence intervals, we have a 10% chance of being wrong.\n",
    "\n",
    "(*) statistics inference provides methods for drawing conclusions about a population from sample data."
   ]
  },
  {
   "cell_type": "markdown",
   "id": "e346814b",
   "metadata": {},
   "source": [
    "Load libraries"
   ]
  },
  {
   "cell_type": "code",
   "execution_count": 1,
   "id": "d36e13b8",
   "metadata": {},
   "outputs": [],
   "source": [
    "import pandas as pd\n",
    "import numpy as np\n",
    "import matplotlib.pyplot as plt\n",
    "import seaborn as sns"
   ]
  },
  {
   "cell_type": "markdown",
   "id": "7430a461",
   "metadata": {},
   "source": [
    "Load dataset \"House\""
   ]
  },
  {
   "cell_type": "code",
   "execution_count": 2,
   "id": "70ed78b6",
   "metadata": {},
   "outputs": [
    {
     "data": {
      "text/html": [
       "<div>\n",
       "<style scoped>\n",
       "    .dataframe tbody tr th:only-of-type {\n",
       "        vertical-align: middle;\n",
       "    }\n",
       "\n",
       "    .dataframe tbody tr th {\n",
       "        vertical-align: top;\n",
       "    }\n",
       "\n",
       "    .dataframe thead th {\n",
       "        text-align: right;\n",
       "    }\n",
       "</style>\n",
       "<table border=\"1\" class=\"dataframe\">\n",
       "  <thead>\n",
       "    <tr style=\"text-align: right;\">\n",
       "      <th></th>\n",
       "      <th>bedroom_count</th>\n",
       "      <th>net_sqm</th>\n",
       "      <th>center_distance</th>\n",
       "      <th>metro_distance</th>\n",
       "      <th>floor</th>\n",
       "      <th>age</th>\n",
       "      <th>price</th>\n",
       "    </tr>\n",
       "  </thead>\n",
       "  <tbody>\n",
       "    <tr>\n",
       "      <th>0</th>\n",
       "      <td>1</td>\n",
       "      <td>26.184098</td>\n",
       "      <td>1286.68</td>\n",
       "      <td>204.003817</td>\n",
       "      <td>22</td>\n",
       "      <td>67</td>\n",
       "      <td>96004.804557</td>\n",
       "    </tr>\n",
       "    <tr>\n",
       "      <th>1</th>\n",
       "      <td>1</td>\n",
       "      <td>34.866901</td>\n",
       "      <td>1855.25</td>\n",
       "      <td>186.980360</td>\n",
       "      <td>8</td>\n",
       "      <td>30</td>\n",
       "      <td>92473.722568</td>\n",
       "    </tr>\n",
       "    <tr>\n",
       "      <th>2</th>\n",
       "      <td>1</td>\n",
       "      <td>36.980709</td>\n",
       "      <td>692.09</td>\n",
       "      <td>111.224999</td>\n",
       "      <td>24</td>\n",
       "      <td>24</td>\n",
       "      <td>98112.519942</td>\n",
       "    </tr>\n",
       "    <tr>\n",
       "      <th>3</th>\n",
       "      <td>1</td>\n",
       "      <td>17.445723</td>\n",
       "      <td>1399.49</td>\n",
       "      <td>237.998760</td>\n",
       "      <td>1</td>\n",
       "      <td>66</td>\n",
       "      <td>92118.326874</td>\n",
       "    </tr>\n",
       "    <tr>\n",
       "      <th>4</th>\n",
       "      <td>1</td>\n",
       "      <td>52.587646</td>\n",
       "      <td>84.65</td>\n",
       "      <td>100.996400</td>\n",
       "      <td>20</td>\n",
       "      <td>3</td>\n",
       "      <td>98976.653176</td>\n",
       "    </tr>\n",
       "    <tr>\n",
       "      <th>...</th>\n",
       "      <td>...</td>\n",
       "      <td>...</td>\n",
       "      <td>...</td>\n",
       "      <td>...</td>\n",
       "      <td>...</td>\n",
       "      <td>...</td>\n",
       "      <td>...</td>\n",
       "    </tr>\n",
       "    <tr>\n",
       "      <th>4040</th>\n",
       "      <td>14</td>\n",
       "      <td>600.285032</td>\n",
       "      <td>499.92</td>\n",
       "      <td>84.714882</td>\n",
       "      <td>1</td>\n",
       "      <td>2</td>\n",
       "      <td>115050.425194</td>\n",
       "    </tr>\n",
       "    <tr>\n",
       "      <th>4041</th>\n",
       "      <td>14</td>\n",
       "      <td>242.912020</td>\n",
       "      <td>1408.20</td>\n",
       "      <td>94.257176</td>\n",
       "      <td>2</td>\n",
       "      <td>34</td>\n",
       "      <td>99862.768731</td>\n",
       "    </tr>\n",
       "    <tr>\n",
       "      <th>4042</th>\n",
       "      <td>14</td>\n",
       "      <td>381.986238</td>\n",
       "      <td>1600.48</td>\n",
       "      <td>175.757426</td>\n",
       "      <td>2</td>\n",
       "      <td>64</td>\n",
       "      <td>103316.062406</td>\n",
       "    </tr>\n",
       "    <tr>\n",
       "      <th>4043</th>\n",
       "      <td>17</td>\n",
       "      <td>750.971604</td>\n",
       "      <td>402.62</td>\n",
       "      <td>40.985933</td>\n",
       "      <td>1</td>\n",
       "      <td>80</td>\n",
       "      <td>118134.771190</td>\n",
       "    </tr>\n",
       "    <tr>\n",
       "      <th>4044</th>\n",
       "      <td>17</td>\n",
       "      <td>644.319019</td>\n",
       "      <td>229.89</td>\n",
       "      <td>-63.470240</td>\n",
       "      <td>1</td>\n",
       "      <td>76</td>\n",
       "      <td>115683.549545</td>\n",
       "    </tr>\n",
       "  </tbody>\n",
       "</table>\n",
       "<p>4045 rows × 7 columns</p>\n",
       "</div>"
      ],
      "text/plain": [
       "      bedroom_count     net_sqm  center_distance  metro_distance  floor  age  \\\n",
       "0                 1   26.184098          1286.68      204.003817     22   67   \n",
       "1                 1   34.866901          1855.25      186.980360      8   30   \n",
       "2                 1   36.980709           692.09      111.224999     24   24   \n",
       "3                 1   17.445723          1399.49      237.998760      1   66   \n",
       "4                 1   52.587646            84.65      100.996400     20    3   \n",
       "...             ...         ...              ...             ...    ...  ...   \n",
       "4040             14  600.285032           499.92       84.714882      1    2   \n",
       "4041             14  242.912020          1408.20       94.257176      2   34   \n",
       "4042             14  381.986238          1600.48      175.757426      2   64   \n",
       "4043             17  750.971604           402.62       40.985933      1   80   \n",
       "4044             17  644.319019           229.89      -63.470240      1   76   \n",
       "\n",
       "              price  \n",
       "0      96004.804557  \n",
       "1      92473.722568  \n",
       "2      98112.519942  \n",
       "3      92118.326874  \n",
       "4      98976.653176  \n",
       "...             ...  \n",
       "4040  115050.425194  \n",
       "4041   99862.768731  \n",
       "4042  103316.062406  \n",
       "4043  118134.771190  \n",
       "4044  115683.549545  \n",
       "\n",
       "[4045 rows x 7 columns]"
      ]
     },
     "execution_count": 2,
     "metadata": {},
     "output_type": "execute_result"
    }
   ],
   "source": [
    "df = pd.read_csv(\"house.csv\", delimiter=',')\n",
    "df"
   ]
  },
  {
   "cell_type": "markdown",
   "id": "69e26434",
   "metadata": {},
   "source": [
    "Now we look at the metro_distance data"
   ]
  },
  {
   "cell_type": "code",
   "execution_count": 3,
   "id": "3377b299",
   "metadata": {},
   "outputs": [
    {
     "data": {
      "text/plain": [
       "count    4045.000000\n",
       "mean       89.412340\n",
       "std        71.000440\n",
       "min      -168.492932\n",
       "25%        39.283508\n",
       "50%        89.031988\n",
       "75%       140.493035\n",
       "max       330.275317\n",
       "Name: metro_distance, dtype: float64"
      ]
     },
     "execution_count": 3,
     "metadata": {},
     "output_type": "execute_result"
    }
   ],
   "source": [
    "df_metro_distance = df['metro_distance']\n",
    "df_metro_distance.describe()"
   ]
  },
  {
   "cell_type": "markdown",
   "id": "5a3d6f94",
   "metadata": {},
   "source": [
    "Let us take out the mean of the metro_distance data."
   ]
  },
  {
   "cell_type": "code",
   "execution_count": 4,
   "id": "fcd0d8f5",
   "metadata": {},
   "outputs": [
    {
     "data": {
      "text/plain": [
       "89.4123404543368"
      ]
     },
     "execution_count": 4,
     "metadata": {},
     "output_type": "execute_result"
    }
   ],
   "source": [
    "mean_ = df_metro_distance.mean()\n",
    "mean_"
   ]
  },
  {
   "cell_type": "markdown",
   "id": "30452975",
   "metadata": {},
   "source": [
    "with Confidence Interval of 95% we have Z-score with value 1.96 <br>\n",
    "The Z score tells us an estimate of the number of standard deviations that an observation lies from the mean"
   ]
  },
  {
   "cell_type": "code",
   "execution_count": 5,
   "id": "32f0d54c",
   "metadata": {},
   "outputs": [],
   "source": [
    "Z = 1.96"
   ]
  },
  {
   "cell_type": "markdown",
   "id": "a52f2bdb",
   "metadata": {},
   "source": [
    "We would like to know the standard deviation of the entire dataset (population)"
   ]
  },
  {
   "cell_type": "code",
   "execution_count": 6,
   "id": "10d74b0c",
   "metadata": {},
   "outputs": [
    {
     "name": "stdout",
     "output_type": "stream",
     "text": [
      "71.00043988585027\n"
     ]
    }
   ],
   "source": [
    "std = df_metro_distance.std()\n",
    "print(std)"
   ]
  },
  {
   "cell_type": "markdown",
   "id": "dd017fc5",
   "metadata": {},
   "source": [
    "We take sample of 40% out of dataset (1600)"
   ]
  },
  {
   "cell_type": "code",
   "execution_count": 7,
   "id": "a09ea56f",
   "metadata": {},
   "outputs": [
    {
     "name": "stdout",
     "output_type": "stream",
     "text": [
      "1600\n"
     ]
    }
   ],
   "source": [
    "n = len(df_metro_distance[:1600])\n",
    "print(n)"
   ]
  },
  {
   "cell_type": "markdown",
   "id": "47ba21a5",
   "metadata": {},
   "source": [
    "Then calculate confidence interval"
   ]
  },
  {
   "cell_type": "code",
   "execution_count": 8,
   "id": "50701feb",
   "metadata": {},
   "outputs": [
    {
     "name": "stdout",
     "output_type": "stream",
     "text": [
      "85.93331889993014\n"
     ]
    }
   ],
   "source": [
    "import math\n",
    "\n",
    "left_side = mean_ - (Z * (std / math.sqrt(n)))\n",
    "print(left_side)"
   ]
  },
  {
   "cell_type": "code",
   "execution_count": 9,
   "id": "a8e59ba9",
   "metadata": {},
   "outputs": [
    {
     "name": "stdout",
     "output_type": "stream",
     "text": [
      "92.89136200874346\n"
     ]
    }
   ],
   "source": [
    "right_side = mean_ + (Z * (std / math.sqrt(n)))\n",
    "print(right_side)"
   ]
  },
  {
   "cell_type": "markdown",
   "id": "d40b8d1e",
   "metadata": {},
   "source": [
    "The information above tells us that the true mean of metro distance would be in between 85.93 and 92.89 <br>\n",
    "Let's plot this information."
   ]
  },
  {
   "cell_type": "code",
   "execution_count": 10,
   "id": "0602bf0b",
   "metadata": {},
   "outputs": [
    {
     "data": {
      "text/plain": [
       "<matplotlib.legend.Legend at 0x7fee11f9fd90>"
      ]
     },
     "execution_count": 10,
     "metadata": {},
     "output_type": "execute_result"
    },
    {
     "data": {
      "image/png": "[encoded data removed]",
      "text/plain": [
       "<Figure size 1200x800 with 1 Axes>"
      ]
     },
     "metadata": {},
     "output_type": "display_data"
    }
   ],
   "source": [
    "plt.figure(figsize=(12,8))\n",
    "plt.hist(df_metro_distance, bins=25, density=True, alpha=0.6, color='#dc5656')\n",
    "\n",
    "plt.axvline(left_side, color='blue',lw=3, label=f'Left side: ${left_side}')\n",
    "plt.axvline(right_side, color='blue',lw=3, label=f'Right side: ${right_side}')\n",
    "\n",
    "plt.xlabel('Metro Distance')\n",
    "plt.ylabel('Probability Density')\n",
    "plt.title('Confidence interval', fontsize=14)\n",
    "plt.legend()"
   ]
  },
  {
   "cell_type": "code",
   "execution_count": null,
   "id": "a739e53b",
   "metadata": {},
   "outputs": [],
   "source": []
  },
  {
   "cell_type": "code",
   "execution_count": null,
   "id": "a3e42fbd",
   "metadata": {},
   "outputs": [],
   "source": []
  }
 ],
 "metadata": {
  "kernelspec": {
   "display_name": "Python 3 (ipykernel)",
   "language": "python",
   "name": "python3"
  },
  "language_info": {
   "codemirror_mode": {
    "name": "ipython",
    "version": 3
   },
   "file_extension": ".py",
   "mimetype": "text/x-python",
   "name": "python",
   "nbconvert_exporter": "python",
   "pygments_lexer": "ipython3",
   "version": "3.10.9"
  }
 },
 "nbformat": 4,
 "nbformat_minor": 5
}
